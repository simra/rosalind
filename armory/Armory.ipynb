{
 "cells": [
  {
   "cell_type": "code",
   "execution_count": 4,
   "metadata": {
    "collapsed": false
   },
   "outputs": [
    {
     "data": {
      "text/plain": [
       "'242 279 239 230'"
      ]
     },
     "execution_count": 4,
     "metadata": {},
     "output_type": "execute_result"
    }
   ],
   "source": [
    "# ini\n",
    "from Bio.Seq import Seq\n",
    "s = Seq(\"GATCTAATTTGCAAGTCGCCAGATTAACAGACCGTCGAAGTTTCCCCCCTCAGCGAGTCATACACCGCGCATTCCCGTCCATTGCACTAATTCATTCCACTGAAGAAGAAGTGTCGGGTAGTGCCTATAGAGCTGCTGAATCGGGAGCCAGGCCGAATATTCCAGTGGCTAAGTAGTCCGTTAAGTTCGTCGGGGAAGGTAAAGCCCTTGAGCCTAGAGCATCCAGCTACTTAGCCCCCCAATCTATAGACCTTCCCACTGAATCGACAACCCTCTCCCGGGGTCCCATAAGTGAGTCAGCCGAACGGCACAGGAACTATGCATGATCTTTCGGTGGTAAACAGCGACCTCACGAGACAAATTTCCACAGACACCAGAATTATGGGACTACGAAGATGCAACGCAAGTCCATCGGGGCACGCAATTTCGCGTGCACTCAACGTGGTATGTTCTGGGTGCGTCGTGTGCATTATCAACTTGCATAATATCTGTTCATGCGGATAACCCGCCCTTTTGGGATAGGTACTCTCTCCAACCCGATCCCGATGCTGAGGCGTAGTCTATGCCCCGGGACGTTTGCTACGGTGCAGGGGATACCTTCGTTCGGGGAGGCCGCGAGCCGAACGCGTCCCCAACCACTCTAACGCAACAAGGATTGTACTTTATCGCCCGCGGCGCAGGGGCGCCGTTTGGACAATCCGTGTGATGAAGGCAGACCAGACCCGTAGACTGAAGATGCAAATGAACGCCATACAAACGAGCCGTTTGAGAGCTTGCGCATGGTGGAGTCGTAGTTATAACCTGCTAGTCGTCTCAGTCAACCAAGCTGCCAAAGTGGCGCGCATACAATAATGATTGACTTCCCGGTCCATCAACCTTACAGTTTTATTTTAAAATAACCCTATCTGTTTATCGCTCGCCTCAGGTGCCGGTAATCCCTAGATCGTTAGCGCTGCCTCACCTCCATCGTCGCAGCCTCTGATACTCACT\")\n",
    "\" \".join(map(lambda x: str(s.count(x)),[\"A\",\"C\",\"G\",\"T\"]))"
   ]
  },
  {
   "cell_type": "code",
   "execution_count": 43,
   "metadata": {
    "collapsed": false
   },
   "outputs": [
    {
     "data": {
      "text/plain": [
       "['accessions',\n",
       " 'annotation_update',\n",
       " 'comments',\n",
       " 'created',\n",
       " 'cross_references',\n",
       " 'data_class',\n",
       " 'description',\n",
       " 'entry_name',\n",
       " 'features',\n",
       " 'gene_name',\n",
       " 'host_organism',\n",
       " 'host_taxonomy_id',\n",
       " 'keywords',\n",
       " 'molecule_type',\n",
       " 'organelle',\n",
       " 'organism',\n",
       " 'organism_classification',\n",
       " 'references',\n",
       " 'seqinfo',\n",
       " 'sequence',\n",
       " 'sequence_length',\n",
       " 'sequence_update',\n",
       " 'taxonomy_id']"
      ]
     },
     "execution_count": 43,
     "metadata": {},
     "output_type": "execute_result"
    }
   ],
   "source": [
    "# dbpr\n",
    "# it's not clear to me how this sample code can be used to get the uniprot GO section.\n",
    "from Bio import ExPASy\n",
    "from Bio import SwissProt\n",
    "from itertools import ifilter\n",
    "\n",
    "handle = ExPASy.get_sprot_raw('Q5L524') #you can give several IDs separated by commas\n",
    "record = SwissProt.read(handle) # use SwissProt.parse for multiple proteins\n",
    "list(ifilter(lambda x: x[0]!='_',dir(record)))"
   ]
  },
  {
   "cell_type": "code",
   "execution_count": 37,
   "metadata": {
    "collapsed": false
   },
   "outputs": [
    {
     "name": "stdout",
     "output_type": "stream",
     "text": [
      "cell cycle\n",
      "cell division\n",
      "cell wall organization\n",
      "lipid glycosylation\n",
      "peptidoglycan biosynthetic process\n",
      "regulation of cell shape\n"
     ]
    }
   ],
   "source": [
    "from itertools import groupby\n",
    "# produce a dictionary from the cross-references.\n",
    "xref=dict([(k,list(g)) for k,g in groupby(record.cross_references, lambda x: list(x)[0])])\n",
    "for g in xref['GO']:\n",
    "    s=list(g)[2]    \n",
    "    (k,v)=s[:1],s[2:]\n",
    "    if k==\"P\":\n",
    "        print v "
   ]
  },
  {
   "cell_type": "code",
   "execution_count": 70,
   "metadata": {
    "collapsed": false
   },
   "outputs": [
    {
     "name": "stdout",
     "output_type": "stream",
     "text": [
      ">gi|408689612|gb|JX308803.1| Medicago rugosa FRUITFULLa mRNA, partial cds\n",
      "CTTATTGTCTTCTCCAACAAAGGAAAGCTCTATGAGTATTCAAGCGATCCCTGTATGGAA\n",
      "AAAATTCTAGAACGGTATGAAAGGTATTCATATATGGAAAGGCAGCATGTTGCAAATGAT\n",
      "CAGCCACAAAATGAAAATTGGATCATAGAACATGCAAGGCTGAAGACAAGGTTGGAAGTC\n",
      "ATTCAGAAAAATCAAAGGAATTTTATGGGTGAAGAACTTGATGGCCTAAGTATGAAAGAG\n",
      "CTTCAGCATTTGGAGCATCAACTTGATTCTGCTCTCAAACAGATTAGATCAAGGAAGAAC\n",
      "CAACTAATGTATGAATCCATTTCAGAGCTCAGTAAAAAAGATGAGGCCCTCCAAGAGAAA\n",
      "AACAAATTGCTTACAATAAAGATAAAGGAGAAAGAGAAGGCACTTGCCCAACTTGACCAG\n",
      "CAAAATGAGGATATGAATCTAGCATCCACAGTCCTTGTACCTCAATCATTGGAGACACTG\n",
      "AATATTGGAAGTTTCCCTGAAGATAGAGATGATGGCGGAAATAATGAAGAAAGTCAAACC\n",
      "CATGGCAACGCCAATCTTCCATCATGGATGATTAATCAC\n",
      "\n"
     ]
    }
   ],
   "source": [
    "# frmt\n",
    "from Bio import Entrez\n",
    "from Bio import SeqIO\n",
    "ids=\"NM_001197168 JQ762396 JX475048 JX445144 JX308803 NM_001270868 BT149866 HM595636\".split(' ')\n",
    "Entrez.email = \"robert.sim@live.com\"\n",
    "handle = Entrez.efetch(db=\"nucleotide\", id=ids, rettype=\"fasta\")\n",
    "records = SeqIO.parse(handle,'fasta')\n",
    "result=[r for r in sorted(records,key=lambda x: len(x.seq))][0]\n",
    "print result.format('fasta')    \n",
    "    "
   ]
  },
  {
   "cell_type": "code",
   "execution_count": 71,
   "metadata": {
    "collapsed": true
   },
   "outputs": [],
   "source": [
    "# meme: submit data to http://meme-suite.org/tools/meme"
   ]
  },
  {
   "cell_type": "code",
   "execution_count": null,
   "metadata": {
    "collapsed": true
   },
   "outputs": [],
   "source": []
  }
 ],
 "metadata": {
  "kernelspec": {
   "display_name": "Python 2",
   "language": "python",
   "name": "python2"
  },
  "language_info": {
   "codemirror_mode": {
    "name": "ipython",
    "version": 2
   },
   "file_extension": ".py",
   "mimetype": "text/x-python",
   "name": "python",
   "nbconvert_exporter": "python",
   "pygments_lexer": "ipython2",
   "version": "2.7.11"
  }
 },
 "nbformat": 4,
 "nbformat_minor": 0
}
